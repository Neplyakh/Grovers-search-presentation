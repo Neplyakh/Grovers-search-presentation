{
 "cells": [
  {
   "cell_type": "markdown",
   "metadata": {},
   "source": [
    "# Grover's search algorithm"
   ]
  },
  {
   "cell_type": "markdown",
   "metadata": {},
   "source": [
    "Grover's search is a quantum algorithm for unstructered database search in a database with N entries. It was invented by Lov Kumar Grover and published in 1996. Grover's search requires an order of $\\mathcal{O}(\\sqrt{N})$ operations, while the best possible classical algorithm scales with $\\mathcal{O}(N)$. Therefore for large N, the algorithm outperforms classical algorithms severely.\n",
    "\n",
    "This Jupyter Notebook aims to showcase how Grover's search can be implemented on a quantum computer and how it can be utilized on general problems. \n",
    "\n",
    "The orginal paper from Grover is \"A fast quantum mechanical algorithm for database search\":arXiv:quant-ph/9605043\n",
    "\n",
    "For further reading, consult the qiskit-textbook: https://qiskit.org/textbook/ch-algorithms/grover.html"
   ]
  },
  {
   "cell_type": "markdown",
   "metadata": {},
   "source": [
    "### Initialize"
   ]
  },
  {
   "cell_type": "markdown",
   "metadata": {},
   "source": [
    "First we have to initialize a few libraries that will be used in the notebook."
   ]
  },
  {
   "cell_type": "code",
   "execution_count": null,
   "metadata": {},
   "outputs": [],
   "source": [
    "# qiskit\n",
    "from qiskit import QuantumRegister, ClassicalRegister # Registers\n",
    "from qiskit import QuantumCircuit, execute, Aer # Circuit, execution and simulator\n",
    "from qiskit import IBMQ # base library\n",
    "from qiskit.visualization import plot_histogram # plot histogram\n",
    "from qiskit.providers.ibmq import least_busy # check least busy quantum computer\n",
    "from qiskit.tools import backend_monitor,backend_overview # useful tools for backend overview and analysis\n",
    "\n",
    "# other\n",
    "import numpy as np # numpy (base math functions)\n",
    "import math # floor function\n",
    "import matplotlib.pyplot as plt # plotting\n",
    "\n",
    "# load provider\n",
    "provider = IBMQ.load_account() # loading account"
   ]
  },
  {
   "cell_type": "markdown",
   "metadata": {},
   "source": [
    "# Solving 4x2 grid problem with Grover's search"
   ]
  },
  {
   "cell_type": "markdown",
   "metadata": {},
   "source": [
    "## Describing the problem"
   ]
  },
  {
   "cell_type": "markdown",
   "metadata": {},
   "source": [
    "Here, Grover's search algorithm will be demonstrated on the following problem:\n",
    "\n",
    "We have a 4x2 grid and each tile contains a bit $q_{i}$ $ i\\in \\{0,1,2,...,7\\}$, which can be either 1 or 0. <br>\n",
    "There are rules enforced on the system, implemented in the form of XOR on pairs of bits  $(q_{i},q_{j})$, with $q_{i}\\neq q_{j}$. <br>\n",
    "The task of Grover's algorithm is to find all bit configurations $(q_{0},q_{1},q_{2},...,q_{7})$, so that all rules are fulfilled.\n",
    "\n",
    "\n",
    "<br> Other rules (OR,AND,NAND) can also be implemented relatively easily in a similar fashion, but may require additional ancilla qubits.\n"
   ]
  },
  {
   "cell_type": "markdown",
   "metadata": {},
   "source": [
    "<img src=\"images/4x2_grid.jpg\" width=\"300\" height=\"400\">"
   ]
  },
  {
   "cell_type": "markdown",
   "metadata": {},
   "source": [
    "## Implementing grover's search"
   ]
  },
  {
   "cell_type": "markdown",
   "metadata": {},
   "source": [
    "First, the rules have to be definded. Each pair $[i,j]$ in the clauses-array defines, which two bits are connected by a XOR-gate."
   ]
  },
  {
   "cell_type": "code",
   "execution_count": null,
   "metadata": {},
   "outputs": [],
   "source": [
    "# define clauses for solving the problem\n",
    "clauses=[[0,1],[2,3],[4,5],[6,7]   ,[0,2],[4,6]]"
   ]
  },
  {
   "cell_type": "markdown",
   "metadata": {},
   "source": [
    "Now the rules have to be implemented in a circuit. A XOR-quantum gate can be implemented as follows:"
   ]
  },
  {
   "cell_type": "markdown",
   "metadata": {},
   "source": [
    "<img src=\"images/XOR_gate.png\" width=\"300\" height=\"400\">"
   ]
  },
  {
   "cell_type": "markdown",
   "metadata": {},
   "source": [
    "The qubit $q_{2}$ is an ancilla qubit and will be preapred in the state $| 0 \\rangle$. <br> It will be the logical output of our XOR operation. $q_{0}$ and $q_{1}$ represent the input of the XOR gate."
   ]
  },
  {
   "cell_type": "code",
   "execution_count": null,
   "metadata": {
    "scrolled": false
   },
   "outputs": [],
   "source": [
    "# XOR-gate\n",
    "def XOR(qc, a, b, output):\n",
    "    qc.cx(a, output)\n",
    "    qc.cx(b, output)"
   ]
  },
  {
   "cell_type": "markdown",
   "metadata": {},
   "source": [
    "Now the Oracle operator $U_w$ will be constructed. It attaches a negative sign to all states that correspond to solutions. It can be implemented as follows:"
   ]
  },
  {
   "cell_type": "markdown",
   "metadata": {},
   "source": [
    "<img src=\"images/oracle_gate.png\" width=\"1000\" height=\"400\">"
   ]
  },
  {
   "cell_type": "markdown",
   "metadata": {},
   "source": [
    "The $a_j$ denote ancilla qubits that are used to perform XOR-operations. The $out_0$ qubit is initialized in a $| -\\rangle$ state. The Toffoli-gate attaches a negative sign to it only, if all ancilla qubits are in state $| 1 \\rangle$ (which means all conditions are fullfilled). Due to the linearity of the tensor product, a given composite state only receives a negative sign, if it is a solution to the problem. Therefore the orcale is implemented.\n"
   ]
  },
  {
   "cell_type": "code",
   "execution_count": null,
   "metadata": {},
   "outputs": [],
   "source": [
    "def clause_oracle(nr_var_qubits, clauses, clause_qubits):\n",
    "    var_qubits = QuantumRegister(8, name='q')  # variable bits\n",
    "    clause_qubits = QuantumRegister(len(clauses), name='a')  # bits to store clause-checks\n",
    "    output_qubit = QuantumRegister(1, name='out')\n",
    "    qc_orac=QuantumCircuit(var_qubits, clause_qubits, output_qubit)\n",
    "    # Use XOR gate to check each clause\n",
    "    i = 0\n",
    "    for clause in clauses:\n",
    "        XOR(qc_orac, clause[0], clause[1], clause_qubits[i])\n",
    "        i += 1\n",
    "    # Flip 'output' bit if all clauses are satisfied\n",
    "    qc_orac.mct(clause_qubits, output_qubit)\n",
    "\n",
    "    # Uncompute operation to reset qubits for following iterations\n",
    "    i = 0\n",
    "    for clause in clauses:\n",
    "        XOR(qc_orac, clause[0], clause[1], clause_qubits[i])\n",
    "        i += 1\n",
    "    U_w = qc_orac.to_gate()\n",
    "    U_w.name = \"U$_w$\"\n",
    "    return U_w"
   ]
  },
  {
   "cell_type": "markdown",
   "metadata": {},
   "source": [
    "Next, the Grover diffusion operator $U_s$ will be implemented:"
   ]
  },
  {
   "cell_type": "markdown",
   "metadata": {},
   "source": [
    "<img src=\"images/diffuser_gate.png\" width=\"500\" height=\"400\">"
   ]
  },
  {
   "cell_type": "markdown",
   "metadata": {},
   "source": [
    "It can be similarly implemented for N-qubits. It adds a negative phase to all states that are orthogonal to the composite state."
   ]
  },
  {
   "cell_type": "code",
   "execution_count": null,
   "metadata": {},
   "outputs": [],
   "source": [
    "# nqubit diffuser\n",
    "def diffuser(nqubits):\n",
    "    qc = QuantumCircuit(nqubits)\n",
    "    # Apply transformation |s> -> |00..0> (H-gates)\n",
    "    for qubit in range(nqubits):\n",
    "        qc.h(qubit)\n",
    "    # Apply transformation |00..0> -> |11..1> (X-gates)\n",
    "    for qubit in range(nqubits):\n",
    "        qc.x(qubit)\n",
    "    # Do multi-controlled-Z gate\n",
    "    qc.h(nqubits-1)\n",
    "    qc.mct(list(range(nqubits-1)), nqubits-1)  # multi-controlled-toffoli\n",
    "    qc.h(nqubits-1)\n",
    "    # Apply transformation |11..1> -> |00..0>\n",
    "    for qubit in range(nqubits):\n",
    "        qc.x(qubit)\n",
    "    # Apply transformation |00..0> -> |s>\n",
    "    for qubit in range(nqubits):\n",
    "        qc.h(qubit)\n",
    "    # We will return the diffuser as a gate\n",
    "    U_s = qc.to_gate()\n",
    "    U_s.name = \"U$_s$\"\n",
    "    return U_s"
   ]
  },
  {
   "cell_type": "markdown",
   "metadata": {},
   "source": [
    "# Complete algorithm"
   ]
  },
  {
   "cell_type": "markdown",
   "metadata": {},
   "source": [
    "Now that all parts are given, grover's algorithm can be implemented. \n",
    "\n",
    "Note, that for the amount of iterations m is given by: $m=\\left \\lfloor{   \\frac{\\pi}{4}\\sqrt{\\frac{N}{l}}  }\\right \\rfloor  +\\mathcal{O} (\\frac{l}{N})$, with $N=2^{n}$ as the amount of states (n the amount of qubits encoding the database) <br> and l as the amount of expected solutions for the query. Therefore it can be well approximated with this formula for $\\frac{l}{N}$ large. \n",
    "\n",
    "If that is not the case, the exact formula is $m=\\left \\lfloor{ \\frac{cos^{-1}(\\sqrt{\\frac{N}{l}})}{sin^{-1}(\\frac{2 \\sqrt{l(N-l)}}{N})  }}\\right \\rfloor$\n",
    "\n",
    "The derivation can be found in the paper \"Grover's Algorithm for Multiobject Search in Quantum Computing\": arXiv:quant-ph/9909040"
   ]
  },
  {
   "cell_type": "code",
   "execution_count": null,
   "metadata": {},
   "outputs": [],
   "source": [
    "# Calculate Nr. of iterations\n",
    "exp_results=2**(8-len(clauses)) # Nr. of expected results\n",
    "iterations=math.floor(np.pi/4*np.sqrt(2**8/exp_results)) # Nr. of iterations\n",
    "# for exact Nr of\n",
    "\n",
    "# Create separate registers to name bits\n",
    "var_qubits = QuantumRegister(8, name='v')  # variable bits\n",
    "clause_qubits = QuantumRegister(len(clauses), name='a')  # bits to store clause-checks\n",
    "output_qubit = QuantumRegister(1, name='out')\n",
    "cbits = ClassicalRegister(8, name='cbits')\n",
    "\n",
    "# Create quantum circuit\n",
    "qc = QuantumCircuit(var_qubits, clause_qubits, output_qubit, cbits)\n",
    "# initialize s-state\n",
    "qc.h(var_qubits)\n",
    "# Initialise 'out0' in state |->\n",
    "qc.x(output_qubit)\n",
    "qc.h(output_qubit)\n",
    "#qc.initialize([1, -1]/np.sqrt(2), output_qubit) # alternative way of initialization\n",
    "qc.barrier()\n",
    "\n",
    "for i in range(iterations):\n",
    "    # Apply our oracle\n",
    "    qc.append(clause_oracle(8, clauses, clause_qubits),list(range(8+len(clauses)+1)))\n",
    "    # Apply our diffuser\n",
    "    qc.append(diffuser(8), list(range(8)))\n",
    "    qc.barrier()\n",
    "\n",
    "# Measure the variable qubits\n",
    "qc.measure(var_qubits, cbits)\n",
    "    \n",
    "    \n",
    "qc.draw(\"mpl\")"
   ]
  },
  {
   "cell_type": "markdown",
   "metadata": {},
   "source": [
    "Now that the circuit is created, it's results will be simulated with the \"qasm_simulator\"."
   ]
  },
  {
   "cell_type": "code",
   "execution_count": null,
   "metadata": {},
   "outputs": [],
   "source": [
    "# Simulate and plot results\n",
    "# number to keep\n",
    "ntk=8\n",
    "# # # # # # # # #\n",
    "qasm_simulator = Aer.get_backend('qasm_simulator')\n",
    "result = execute(qc, backend=qasm_simulator, shots=1024).result()\n",
    "plot_histogram(result.get_counts(),number_to_keep=ntk)"
   ]
  },
  {
   "cell_type": "markdown",
   "metadata": {},
   "source": [
    "The states with significantly larger occurance in the histrogram than the other N states should be our solutions. Below it will be checked, if they actually are solutions."
   ]
  },
  {
   "cell_type": "markdown",
   "metadata": {},
   "source": [
    "## plot results"
   ]
  },
  {
   "cell_type": "code",
   "execution_count": null,
   "metadata": {
    "scrolled": false
   },
   "outputs": [],
   "source": [
    "results=sorted(result.get_counts().items(), key=lambda item: item[1])[::-1][:ntk] # ntk results\n",
    "threshold=0.05 # define threshold for what results to plot\n",
    "solutions=[results[i]for i in range(len(results))  if results[i][1]>=threshold*1024]\n",
    "#all data\n",
    "rows=int(len(solutions) / 4) + (len(solutions) % 4 > 0) # how many rows\n",
    "# plot\n",
    "fig = plt.figure(figsize=(15, 5*rows))\n",
    "for i,sol in enumerate(solutions):\n",
    "    ax=plt.subplot(rows,4,i+1)\n",
    "    ax.set_axis_off() # hide axis\n",
    "    bitstring=list(map(int, sol[0]))\n",
    "    # check if clauses are fulfilled\n",
    "    clause_status=\"Correct\"\n",
    "    clause_color=\"green\"\n",
    "    for clause in clauses:\n",
    "        if bitstring[clause[0]]==bitstring[clause[1]]:\n",
    "            clause_status=\"Incorrect\"\n",
    "            clause_color=\"red\"\n",
    "    \n",
    "    \n",
    "    image=np.reshape(bitstring,(4,2))\n",
    "    ax.pcolormesh(image, edgecolors='white', linewidth=4,cmap=\"cividis\")\n",
    "    ax.set_aspect('equal')\n",
    "    \n",
    "    for (j,i),label in np.ndenumerate(image):\n",
    "        if label==1:\n",
    "            ax.text(i+0.5,j+0.5,label,ha='center',va='center',color=\"black\",fontsize=25) \n",
    "        else:\n",
    "            ax.text(i+0.5,j+0.5,label,ha='center',va='center',color=\"white\",fontsize=25) \n",
    "    ax.set_title(\"{}\\nCounts:{}\".format(clause_status,sol[1]),fontsize=20, color=clause_color)"
   ]
  },
  {
   "cell_type": "markdown",
   "metadata": {},
   "source": [
    "As can be seen, the results are correct solutions that indeed solve the problem. Grover's search therefore works"
   ]
  },
  {
   "cell_type": "markdown",
   "metadata": {},
   "source": [
    "## On real device [Hardware not available :'(    ]"
   ]
  },
  {
   "cell_type": "markdown",
   "metadata": {},
   "source": [
    "This code would run, however the available hardware makes very difficult. It could theoretically be run with the backend \"ibmq_16_melbourne\" for up to 7 elements (\"conditions\") in the \"clauses\"-array, but the Toffoli-gate (gate mct\" is not supported as an instruction. Therefore, a 8-dimensional Toffoli gate would have to be implemented out of single- and double-qubit-gates. Implementation can be done, however it exceeds the scope of this tutorial.\n",
    "\n",
    "The implementation of a Toffoli gate for an arbitrary amount of qubits can be implemented without additional ancilla-qubits, using the insights from the paper \"Linear-Depth Quantum Circuits for n-qubit Toffoli gates with no Ancilla\": arXiv:1303.3557 "
   ]
  },
  {
   "cell_type": "code",
   "execution_count": null,
   "metadata": {},
   "outputs": [],
   "source": [
    "provider = IBMQ.load_account()\n",
    "backend = least_busy(provider.backends(filters=lambda x: x.configuration().n_qubits >= 8+len(clauses)+1 and \n",
    "                                   not x.configuration().simulator and x.status().operational==True))\n",
    "print(\"least busy backend: \", backend)"
   ]
  },
  {
   "cell_type": "code",
   "execution_count": null,
   "metadata": {},
   "outputs": [],
   "source": [
    "backend_overview()"
   ]
  },
  {
   "cell_type": "code",
   "execution_count": null,
   "metadata": {
    "scrolled": false
   },
   "outputs": [],
   "source": [
    "backend_monitor(backend)"
   ]
  },
  {
   "cell_type": "code",
   "execution_count": null,
   "metadata": {},
   "outputs": [],
   "source": [
    "# Run our circuit on the least busy backend. Monitor the execution of the job in the queue. This can take a while\n",
    "from qiskit.tools.monitor import job_monitor\n",
    "job = execute(qc, backend=backend, shots=1024, optimization_level=3)\n",
    "job_monitor(job, interval = 6)"
   ]
  },
  {
   "cell_type": "code",
   "execution_count": null,
   "metadata": {},
   "outputs": [],
   "source": [
    "# Get the results from the computation\n",
    "results = job.result()\n",
    "answer = results.get_counts(qc)\n",
    "plot_histogram(answer)"
   ]
  },
  {
   "cell_type": "markdown",
   "metadata": {},
   "source": [
    "## References"
   ]
  },
  {
   "cell_type": "markdown",
   "metadata": {},
   "source": [
    "1. Grover, Lov K. \"A fast quantum mechanical algorithm for database search.\" Proceedings of the twenty-eighth annual ACM symposium on Theory of computing. 1996. : https://arxiv.org/abs/quant-ph/9605043\n",
    "\n",
    "2. Qiskit-Textbook, chapter 3.10: https://qiskit.org/textbook/ch-algorithms/grover.html\n",
    "\n",
    "3. Chen, Goong, et al. \"Grover’s algorithm for multiobject search in quantum computing.\" Directions in Quantum Optics. Springer, Berlin, Heidelberg, 2001. 165-175. : https://arxiv.org/abs/quant-ph/9909040\n",
    "\n",
    "4. Saeedi, Mehdi, and Massoud Pedram. \"Linear-depth quantum circuits for n-qubit Toffoli gates with no ancilla.\" Physical Review A 87.6 (2013): 062318. : https://arxiv.org/abs/1303.3557"
   ]
  },
  {
   "cell_type": "code",
   "execution_count": null,
   "metadata": {},
   "outputs": [],
   "source": []
  }
 ],
 "metadata": {
  "kernelspec": {
   "display_name": "Qiskit",
   "language": "python",
   "name": "qiskit"
  },
  "language_info": {
   "codemirror_mode": {
    "name": "ipython",
    "version": 3
   },
   "file_extension": ".py",
   "mimetype": "text/x-python",
   "name": "python",
   "nbconvert_exporter": "python",
   "pygments_lexer": "ipython3",
   "version": "3.7.9"
  }
 },
 "nbformat": 4,
 "nbformat_minor": 4
}
